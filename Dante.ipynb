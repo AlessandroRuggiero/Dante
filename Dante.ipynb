{
 "cells": [
  {
   "cell_type": "code",
   "execution_count": 21,
   "metadata": {},
   "outputs": [],
   "source": [
    "import io\n",
    "import numpy as np\n",
    "import random\n",
    "import sys\n",
    "import time\n",
    "from keras.utils.data_utils import get_file\n",
    "from keras.callbacks import LambdaCallback\n",
    "from keras.models import Sequential\n",
    "from keras.layers import Dense\n",
    "from keras.layers import LSTM\n",
    "from keras.optimizers import RMSprop\n",
    "from keras.models import load_model"
   ]
  },
  {
   "cell_type": "code",
   "execution_count": 3,
   "metadata": {},
   "outputs": [
    {
     "name": "stdout",
     "output_type": "stream",
     "text": [
      "Apertura del file\n",
      "Lunghezza del testo: 558240\n",
      "\n",
      "\n",
      "\n",
      "\n",
      "\n",
      "\n",
      " *****************primi mille caratteri************\n",
      " inferno\n",
      "\n",
      "\n",
      "\n",
      "inferno: canto i\n",
      "\n",
      "\n",
      "nel mezzo del cammin di nostra vita\n",
      "  mi ritrovai per una selva oscura\n",
      "  che' la diritta via era smarrita.\n",
      "\n",
      "ahi quanto a dir qual era e` cosa dura\n",
      "  esta selva selvaggia e aspra e forte\n",
      "  che nel pensier rinova la paura!\n",
      "\n",
      "tant'e` amara che poco e` piu` morte;\n",
      "  ma per trattar del ben ch'i' vi trovai,\n",
      "  diro` de l'altre cose ch'i' v'ho scorte.\n",
      "\n",
      "io non so ben ridir com'i' v'intrai,\n",
      "  tant'era pien di sonno a quel punto\n",
      "  che la verace via abbandonai.\n",
      "\n",
      "ma poi ch'i' fui al pie` d'un colle giunto,\n",
      "  la` dove terminava quella valle\n",
      "  che m'avea di paura il cor compunto,\n",
      "\n",
      "guardai in alto, e vidi le sue spalle\n",
      "  vestite gia` de' raggi del pianeta\n",
      "  che mena dritto altrui per ogne calle.\n",
      "\n",
      "allor fu la paura un poco queta\n",
      "  che nel lago del cor m'era durata\n",
      "  la notte ch'i' passai con tanta pieta.\n",
      "\n",
      "e come quei che con lena affannata\n",
      "  uscito fuor del pelago a la riva\n",
      "  si volge a l'acqua perigliosa e guata,\n",
      "\n",
      "cosi` l'animo mio, ch'ancor fuggiva,\n",
      "  si volse a retro a r ***********************************************\n",
      "\n"
     ]
    }
   ],
   "source": [
    "print(\"Apertura del file\")\n",
    "with open('divinacommedia.txt', 'r') as f:\n",
    "    text = f.read().lower()\n",
    "print('Lunghezza del testo:', len(text))\n",
    "print()\n",
    "print('\\n\\n\\n\\n\\n','*****************primi mille caratteri************\\n',\n",
    "      text[0:1000],'***********************************************\\n')    "
   ]
  },
  {
   "cell_type": "code",
   "execution_count": 4,
   "metadata": {},
   "outputs": [
    {
     "name": "stdout",
     "output_type": "stream",
     "text": [
      "{'\\n': 0, ' ': 1, '!': 2, '\"': 3, \"'\": 4, '(': 5, ')': 6, ',': 7, '-': 8, '.': 9, ':': 10, ';': 11, '<': 12, '>': 13, '?': 14, '`': 15, 'a': 16, 'b': 17, 'c': 18, 'd': 19, 'e': 20, 'f': 21, 'g': 22, 'h': 23, 'i': 24, 'j': 25, 'l': 26, 'm': 27, 'n': 28, 'o': 29, 'p': 30, 'q': 31, 'r': 32, 's': 33, 't': 34, 'u': 35, 'v': 36, 'x': 37, 'y': 38, 'z': 39}\n"
     ]
    }
   ],
   "source": [
    "# preparo i dati per ambientare la rete neurale\n",
    "\n",
    "chars = sorted (list (set (text)))\n",
    "char_indices = dict((c, i) for i, c in enumerate(chars)) # valore - numero\n",
    "indices_char = dict((i, c) for i, c in enumerate(chars)) # numero - valore\n",
    "print (char_indices)"
   ]
  },
  {
   "cell_type": "code",
   "execution_count": 5,
   "metadata": {},
   "outputs": [],
   "source": [
    "maxlen = 30 # frazione di caratteri ridondante da me scelta\n",
    "step = 3 # distanza tra i dati forniti alla rete\n",
    "next_chars = []\n",
    "sentences = [] #array dove metterò le frasi"
   ]
  },
  {
   "cell_type": "code",
   "execution_count": 6,
   "metadata": {},
   "outputs": [
    {
     "name": "stdout",
     "output_type": "stream",
     "text": [
      "numero frasi: 186070\n"
     ]
    }
   ],
   "source": [
    "for i in range(0, len(text) - maxlen, step):\n",
    "    sentences.append(text[i: i + maxlen])\n",
    "    next_chars.append(text[i + maxlen])\n",
    "print('numero frasi:', len(sentences))"
   ]
  },
  {
   "cell_type": "code",
   "execution_count": 7,
   "metadata": {},
   "outputs": [],
   "source": [
    "x = np.zeros((len(sentences), maxlen, len(chars)), dtype=np.bool) # matrice (amo le matrici) di input\n",
    "y = np.zeros((len(sentences), len(chars)), dtype=np.bool) # output rappresentati ogni parola\n",
    "for i, sentence in enumerate(sentences):\n",
    "    for t, char in enumerate(sentence):\n",
    "        x[i, t, char_indices[char]] = 1\n",
    "    y[i, char_indices[next_chars[i]]] = 1"
   ]
  },
  {
   "cell_type": "code",
   "execution_count": 8,
   "metadata": {},
   "outputs": [],
   "source": [
    "model = Sequential() \n",
    "model.add(LSTM (128, input_shape=(maxlen, len(chars)))) #ottimizzata per gpu gentilemente offerrta da google perchè sono povero\n",
    "model.add(Dense(len(chars), activation='softmax')) # normale layer di neuroni connessi completamente\n",
    "model.compile(loss='categorical_crossentropy', optimizer=RMSprop(lr=0.01))"
   ]
  },
  {
   "cell_type": "code",
   "execution_count": 45,
   "metadata": {},
   "outputs": [],
   "source": [
    "def testAfterEpoch (epoch,_):\n",
    "    print()\n",
    "    print()\n",
    "    print('**************Epoch: %d**************' % epoch)\n",
    "\n",
    "    start_index = random.randint(0, len(text) - maxlen - 1)\n",
    "    \n",
    "  \n",
    "\n",
    "    generated = ''\n",
    "    sentence = text[start_index: start_index + maxlen] #crea un chunk di 30 caratteri a partire da un indice a caso\n",
    "    generated += sentence\n",
    "    print('*******************Frase di partenza*****************')\n",
    "    print(sentence)\n",
    "    print('*****************************************************')\n",
    "    sys.stdout.write(generated)\n",
    "    frase = generated +'\\n'\n",
    "    for i in range(400):\n",
    "        x_pred = np.zeros((1, maxlen, len(chars)))\n",
    "        for t, char in enumerate(sentence):\n",
    "            x_pred[0, t, char_indices[char]] = 1.\n",
    "\n",
    "        preds = model.predict(x_pred, verbose=0)[0]\n",
    "        next_index = np.argmax(preds)\n",
    "        next_char = indices_char[next_index]\n",
    "\n",
    "        sentence = sentence[1:] + next_char\n",
    "        frase = frase + next_char\n",
    "        sys.stdout.write(next_char)\n",
    "        sys.stdout.flush()\n",
    "    model.save(f'{epoch}{time.time()}.h5')\n",
    "    with open(str (epoch) + '.txt','w') as f:\n",
    "        f.write (frase)\n",
    "    print()"
   ]
  },
  {
   "cell_type": "code",
   "execution_count": 46,
   "metadata": {},
   "outputs": [],
   "source": [
    "print_callback = LambdaCallback(on_epoch_end=testAfterEpoch)\n",
    "#model.fit (x,y,batch_size=2048,epochs=65,callbacks=[print_callback])"
   ]
  },
  {
   "cell_type": "code",
   "execution_count": 39,
   "metadata": {},
   "outputs": [],
   "source": [
    "def random_prediction (lunghezza,model):\n",
    "    start_index = random.randint(0, len(text) - maxlen - 1)\n",
    "    generated = ''\n",
    "    sentence = text[start_index: start_index + maxlen] #crea un chunk di 30 caratteri a partire da un indice a caso\n",
    "    generated += sentence\n",
    "    print('*******************Frase di partenza*****************')\n",
    "    print(sentence)\n",
    "    print('*****************************************************')\n",
    "    sys.stdout.write(generated)\n",
    "    frase = generated +'\\n'\n",
    "    for i in range(lunghezza):\n",
    "        x_pred = np.zeros((1, maxlen, len(chars)))\n",
    "        for t, char in enumerate(sentence):\n",
    "            x_pred[0, t, char_indices[char]] = 1.\n",
    "\n",
    "        preds = model.predict(x_pred, verbose=0)[0]\n",
    "        next_index = np.argmax(preds)\n",
    "        next_char = indices_char[next_index]\n",
    "\n",
    "        sentence = sentence[1:] + next_char\n",
    "        frase = frase + next_char\n",
    "        sys.stdout.write(next_char)\n",
    "        sys.stdout.flush()\n",
    "    print ()"
   ]
  },
  {
   "cell_type": "code",
   "execution_count": 19,
   "metadata": {},
   "outputs": [
    {
     "name": "stdout",
     "output_type": "stream",
     "text": [
      "*******************Frase di partenza*****************\n",
      "nver' l'arene,\n",
      "  queste del ge\n",
      "*****************************************************\n",
      "nver' l'arene,\n",
      "  queste del gener per l'altro riterso,\n",
      "  tanto che per l'altro riso regno,\n",
      "  che la via mai nel sentime artito,\n",
      "  e disse 'l poco in questa vellea\n",
      "  de l'altro rivol che piu` altra schiava,\n",
      "  e di me non si mara in me che piu` va rimo.\n",
      "\n",
      "e se non si mosse i disse: <<perche' non si chiama\n",
      "  parlar che 'l mondo il calder d'amor mi parla.\n",
      "\n",
      "pero` che l'altro riso di che si che si che fu mara.\n",
      "\n",
      "la` ' visso a l'altro raggio nel corno\n",
      "  che si che con la vista che son discenta,\n",
      "  come tuo nel peccator che parlare imprende\n",
      "  li occhi suoi che per l'altra volta internare e di colpi\n",
      "  de la prese di cose un poco impieghe,\n",
      "  e disse 'l maestro con la sua vece,\n",
      "  che per la via mai non si che si ch'a la scrista in corse al val sol crosto,\n",
      "  per che l'un vecchior del ciel si ch'a la pianendo,\n",
      "  che si chiama il ciel di coloro ascolti.\n",
      "\n",
      "quelli e` amavazia di la`, si` com'io dissi\n",
      "  che si mara in su la spera siacchia,\n",
      "\n",
      "come sanza veramenta di la` dimande,\n",
      "  come l'altra in cota` di piu` stanto,\n",
      "  e dissimi come da"
     ]
    }
   ],
   "source": [
    "random_prediction (1000,model)"
   ]
  },
  {
   "cell_type": "code",
   "execution_count": 22,
   "metadata": {},
   "outputs": [],
   "source": [
    "new_model = load_model ('1578730326.6612554.h5')"
   ]
  },
  {
   "cell_type": "code",
   "execution_count": 28,
   "metadata": {},
   "outputs": [
    {
     "name": "stdout",
     "output_type": "stream",
     "text": [
      "*******************Frase di partenza*****************\n",
      "\n",
      "<<uscicci mai alcuno, o per s\n",
      "*****************************************************\n",
      "\n",
      "<<uscicci mai alcuno, o per sue ante\n",
      "  de la sua vista di colui che 'l grando,\n",
      "  e come con li occhi di trappa,\n",
      "  che si mastra di colui che 'l potero scuoi\n",
      "  che tu trarro del tempo e l'ardenta.\n",
      "\n",
      "lo mio volem sola parlar di contrari\n",
      "  che si mastra chi se' tra la mia\n",
      "  la mia discende in che si che si che convenne,\n",
      "  con la sua santa ch'io dico e di corpo sua fiere.\n",
      "\n",
      "non siete chiamo si rispuose,\n",
      "  che per altra vostra colpa"
     ]
    }
   ],
   "source": [
    "random_prediction (400,new_model)"
   ]
  },
  {
   "cell_type": "code",
   "execution_count": 35,
   "metadata": {},
   "outputs": [],
   "source": [
    "def trymodel (name,lunghezza = 400,times = 1):\n",
    "    new_model = load_model (name)\n",
    "    for _ in range (times):\n",
    "        random_prediction (lunghezza,new_model)"
   ]
  },
  {
   "cell_type": "code",
   "execution_count": 41,
   "metadata": {},
   "outputs": [
    {
     "name": "stdout",
     "output_type": "stream",
     "text": [
      "*******************Frase di partenza*****************\n",
      "ori.\n",
      "\n",
      "li occhi di beatrice, ch\n",
      "*****************************************************\n",
      "ori.\n",
      "\n",
      "li occhi di beatrice, che per mezzo\n",
      "  che l'altra in che si che si che si che si che con la sua vera` segue\n",
      "  di mia vista la corpe chiescia,\n",
      "\n",
      "che la via mai non si che si ch'a la scrista in corse al val sol crosto,\n",
      "  per che l'un vecchior del ciel si ch'a la pianendo,\n",
      "  che si chiama il ciel di coloro ascolti.\n",
      "\n",
      "quelli e` amavazia di la`, si` com'io dissi\n",
      "  che si mara in su la spera siacchia,\n",
      "\n",
      "come sanza veramenta di la\n",
      "*******************Frase di partenza*****************\n",
      "ne la cui virtute\n",
      "  l'esser di\n",
      "*****************************************************\n",
      "ne la cui virtute\n",
      "  l'esser di color che per l'altro rivola.\n",
      "\n",
      "se tu me; e pero` che l'altro ritenno\n",
      "  che tutto si` che 'l ver che si chiama\n",
      "  di la` da la caladesta di colui\n",
      "  che si chiama il ciel di coloro ascolti.\n",
      "\n",
      "quelli e` amavazia di la`, si` com'io dissi\n",
      "  che si mara in su la spera siacchia,\n",
      "\n",
      "come sanza veramenta di la` dimande,\n",
      "  come l'altra in cota` di piu` stanto,\n",
      "  e dissimi come da le stempia posta,\n",
      "\n",
      "come fa che\n",
      "*******************Frase di partenza*****************\n",
      "ncor mi scipa.\n",
      "\n",
      "piu` non si va\n",
      "*****************************************************\n",
      "ncor mi scipa.\n",
      "\n",
      "piu` non si valenta` di se' di tal preso>>.\n",
      "\n",
      "poi disse a me: <<omini non si chiama\n",
      "  tale ch'altra che si che si chiama il novole,\n",
      "  per che l'altro ch'avra` di lui di quel che piu` si parte,\n",
      "  per la vergili un poco incompre un gran valenta,\n",
      "  che si chiama il ciel di coloro ascolti.\n",
      "\n",
      "quelli e` amavazia di la`, si` com'io dissi\n",
      "  che si mara in su la spera siacchia,\n",
      "\n",
      "come sanza veramenta di la` dimande,\n",
      "  come\n",
      "*******************Frase di partenza*****************\n",
      "ci del tuo nome sazio>>.\n",
      "\n",
      "<<o \n",
      "*****************************************************\n",
      "ci del tuo nome sazio>>.\n",
      "\n",
      "<<o vista` d'amor ch'al padre e d'amore,\n",
      "  che si chiama il ciel di coloro ascolti.\n",
      "\n",
      "quelli e` amavazia di la`, si` com'io dissi\n",
      "  che si mara in su la spera siacchia,\n",
      "\n",
      "come sanza veramenta di la` dimande,\n",
      "  come l'altra in cota` di piu` stanto,\n",
      "  e dissimi come da le stempia posta,\n",
      "\n",
      "come fa che l'arte che 'l cielo.\n",
      "\n",
      "e quella che 'l sol ch'a l'un disvostro posse,\n",
      "  per lo sto ch'io viso in cielo,\n",
      "  si\n",
      "*******************Frase di partenza*****************\n",
      "\n",
      "  che piange l'avarizia, per \n",
      "*****************************************************\n",
      "\n",
      "  che piange l'avarizia, per lo posso\n",
      "  di color ch'e` piu` di lasta e per la sua porta.\n",
      "\n",
      "vedi del callo in giu` alto di quel che piu` fuggia\n",
      "  la prima che 'l ciel di coloro ingiummi 'l disio\n",
      "  di quella che si che si che son di color ch'i' si fa ch'i' sol qui fe' si` di la` diventa\n",
      "  che si che si che si che si che con la sua vera` segue\n",
      "  di mia vista la corpe chiescia,\n",
      "\n",
      "che la via mai non si che si ch'a la scrista in cors\n"
     ]
    }
   ],
   "source": [
    "trymodel ('1578732182.0066555.h5',times = 5)\n",
    "    "
   ]
  },
  {
   "cell_type": "code",
   "execution_count": 47,
   "metadata": {},
   "outputs": [
    {
     "name": "stdout",
     "output_type": "stream",
     "text": [
      "Epoch 1/3\n",
      "186070/186070 [==============================] - 300s 2ms/step - loss: 1.1061\n",
      "\n",
      "\n",
      "**************Epoch: 0**************\n",
      "*******************Frase di partenza*****************\n",
      "pecorelle a pascer caccia.\n",
      "\n",
      "co\n",
      "*****************************************************\n",
      "pecorelle a pascer caccia.\n",
      "\n",
      "con tanta si rispuose il sanza suole;\n",
      "  ma per che si passo` le sua mente,\n",
      "  con questa di colui che si fa congiunto.\n",
      "\n",
      "io mi scender la sua parlar discende\n",
      "  a la sua vostra crista e l'altro stano,\n",
      "\n",
      "cosi` questo con quella che si lascia.\n",
      "\n",
      "e quel che son di color che si chiama,\n",
      "\n",
      "fatto di quel che son di color ch'i' disse un segno degna,\n",
      "  con si` che si` di colui che si rispuose\n",
      "  quella che si` che \n",
      "Epoch 2/3\n",
      "186070/186070 [==============================] - 299s 2ms/step - loss: 1.1051\n",
      "\n",
      "\n",
      "**************Epoch: 1**************\n",
      "*******************Frase di partenza*****************\n",
      "ta>>;\n",
      "  per ch'elli, accumulan\n",
      "*****************************************************\n",
      "ta>>;\n",
      "  per ch'elli, accumulan di la` diventa\n",
      "  che si mostra si` di te vedi senti.\n",
      "\n",
      "l'una scritto a l'ormi e li occhi spiri\n",
      "  che tu se' che si rivolse a l'arco sualente\n",
      "  che l'ardita malizia che 'l poi ch'elli eran piu` tosto stallito fronda\n",
      "  che si mostra conforta mi fei discese.\n",
      "\n",
      "e quel che si mosse di mio disse: <<o tutti sira\n",
      "  ch'io dissi men figurato in giu` che s'accosto amore a dio sarchia sua vaso\n",
      "  e di la` da la\n",
      "Epoch 3/3\n",
      "186070/186070 [==============================] - 301s 2ms/step - loss: 1.1062\n",
      "\n",
      "\n",
      "**************Epoch: 2**************\n",
      "*******************Frase di partenza*****************\n",
      " priega,\n",
      "  spirito incarcerato\n",
      "*****************************************************\n",
      " priega,\n",
      "  spirito incarcerato a l'altro ardono,\n",
      "  e che si` che 'l sono a l'altro ricchio stammo;\n",
      "  e quivi mi visi puo` a l'altro amore,\n",
      "  che prima che tu che si mova,\n",
      "  che 'l passi lo scoglier del passo i dove'\n",
      "  si` che di la` discera che tu terra\n",
      "  che si movea in diria piu` che non si chiuse.\n",
      "\n",
      "e quel che di color che si chiamo\n",
      "  che 'l passi lo scoglie a l'ordito laschio\n",
      "  che si mova in giu` che tu trasta in forma pre\n"
     ]
    },
    {
     "data": {
      "text/plain": [
       "<keras.callbacks.callbacks.History at 0x21847787648>"
      ]
     },
     "execution_count": 47,
     "metadata": {},
     "output_type": "execute_result"
    }
   ],
   "source": [
    "model.fit (x,y,batch_size=2048,epochs=3,callbacks=[print_callback])"
   ]
  },
  {
   "cell_type": "code",
   "execution_count": 48,
   "metadata": {},
   "outputs": [],
   "source": [
    "model.save ('final.h5')"
   ]
  }
 ],
 "metadata": {
  "kernelspec": {
   "display_name": "Python 3",
   "language": "python",
   "name": "python3"
  },
  "language_info": {
   "codemirror_mode": {
    "name": "ipython",
    "version": 3
   },
   "file_extension": ".py",
   "mimetype": "text/x-python",
   "name": "python",
   "nbconvert_exporter": "python",
   "pygments_lexer": "ipython3",
   "version": "3.7.4"
  }
 },
 "nbformat": 4,
 "nbformat_minor": 2
}
